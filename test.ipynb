{
 "cells": [
  {
   "cell_type": "code",
   "execution_count": 7,
   "id": "40a9c6dc",
   "metadata": {},
   "outputs": [
    {
     "name": "stdout",
     "output_type": "stream",
     "text": [
      "3\n",
      "4\n",
      "3\n",
      "3\n"
     ]
    }
   ],
   "source": [
    "import sys\n",
    "\n",
    "x = 3.14\n",
    "print(sys.getrefcount(x))  # e.g., 3 (one from x, one from the argument to getrefcount)\n",
    "\n",
    "y = x\n",
    "print(sys.getrefcount(x))  # e.g., 4 (now y also references it)\n",
    "\n",
    "del y\n",
    "print(sys.getrefcount(x))  # back to 3\n",
    "\n",
    "x = 9.0\n",
    "print(sys.getrefcount(x)) # still 3, but \"9.0\" is new and immutable"
   ]
  },
  {
   "cell_type": "code",
   "execution_count": 9,
   "id": "59dab4c5",
   "metadata": {},
   "outputs": [
    {
     "name": "stdout",
     "output_type": "stream",
     "text": [
      "7\n",
      "2\n",
      "7\n",
      "3\n"
     ]
    }
   ],
   "source": [
    "s = \"hello\"\n",
    "print(sys.getrefcount(s))  # e.g., 6\n",
    "\n",
    "t = (\"a\", \"b\", \"c\")\n",
    "print(sys.getrefcount(t))  # e.g., 2\n",
    "\n",
    "u = s\n",
    "v = t\n",
    "print(sys.getrefcount(s))  # e.g., 7\n",
    "print(sys.getrefcount(t))  # e.g., 3\n",
    "\n"
   ]
  },
  {
   "cell_type": "code",
   "execution_count": 10,
   "id": "bcec76e6",
   "metadata": {},
   "outputs": [
    {
     "data": {
      "text/plain": [
       "[[1, 1, 1, 1, 1],\n",
       " [1, 1, 1, 1, 1],\n",
       " [1, 1, 1, 1, 1],\n",
       " [1, 1, 1, 1, 1],\n",
       " [1, 1, 1, 1, 1],\n",
       " [1, 1, 1, 1, 1],\n",
       " [1, 1, 1, 1, 1],\n",
       " [1, 1, 1, 1, 1],\n",
       " [1, 1, 1, 1, 1],\n",
       " [1, 1, 1, 1, 1]]"
      ]
     },
     "execution_count": 10,
     "metadata": {},
     "output_type": "execute_result"
    }
   ],
   "source": [
    "[[1] * 5 for _ in range(10)]"
   ]
  },
  {
   "cell_type": "code",
   "execution_count": 13,
   "id": "f7560e74",
   "metadata": {},
   "outputs": [
    {
     "data": {
      "text/plain": [
       "[[0, 1, 2, 3, 4],\n",
       " [1, 2, 3, 4, 5],\n",
       " [2, 3, 4, 5, 6],\n",
       " [3, 4, 5, 6, 7],\n",
       " [4, 5, 6, 7, 8],\n",
       " [5, 6, 7, 8, 9],\n",
       " [6, 7, 8, 9, 10],\n",
       " [7, 8, 9, 10, 11],\n",
       " [8, 9, 10, 11, 12],\n",
       " [9, 10, 11, 12, 13]]"
      ]
     },
     "execution_count": 13,
     "metadata": {},
     "output_type": "execute_result"
    }
   ],
   "source": [
    "[ [i+j for i in range(5)] for j in range(10)]"
   ]
  },
  {
   "cell_type": "code",
   "execution_count": 15,
   "id": "cc7fd14a",
   "metadata": {},
   "outputs": [
    {
     "name": "stdout",
     "output_type": "stream",
     "text": [
      "403\n"
     ]
    }
   ],
   "source": [
    "#n = int(input())\n",
    "#arr = [int(i) for i in input().split()]\n",
    "n = 14\n",
    "arr = [int(i) for i in \"100 10 1 10 100 10 1 10 100 10 1 10 100 10\".split()]\n",
    "sum = 0\n",
    "for i in range(0, n, 2):\n",
    "  sum += arr[i]\n",
    "print(sum)"
   ]
  },
  {
   "cell_type": "code",
   "execution_count": null,
   "id": "a912c10f",
   "metadata": {},
   "outputs": [
    {
     "name": "stdout",
     "output_type": "stream",
     "text": [
      "i = 0, j=0\n",
      "Yes\n",
      "No\n"
     ]
    }
   ],
   "source": [
    "t = \"????\"\n",
    "u = \"snuk\"\n",
    "\n",
    "i = j = 0\n",
    "ni, nj= len(t), len(u)\n",
    "\n",
    "while i < ni and j < nj:\n",
    "  print(f\"i = {i}, j={j}\")\n",
    "  if ni - i < nj - j:\n",
    "    print(\"No\")\n",
    "    exit()\n",
    "  cur_i, cur_j = i, j\n",
    "  while cur_i < ni and cur_j < nj:\n",
    "    if t[cur_i] == u[cur_j] or t[cur_i] == '?':\n",
    "      cur_i += 1\n",
    "      cur_j += 1\n",
    "    else:\n",
    "      i += 1\n",
    "      j = 0\n",
    "      break\n",
    "  if cur_j == nj:\n",
    "    print(\"Yes\")\n",
    "    exit()\n",
    "\n",
    "if j == nj:\n",
    "  print(\"Yes\")\n",
    "else:\n",
    "  print(\"No\")\n",
    "      \n"
   ]
  },
  {
   "cell_type": "code",
   "execution_count": null,
   "id": "b2c40b08",
   "metadata": {},
   "outputs": [],
   "source": [
    "t = input()\n",
    "u = input()\n",
    "\n",
    "i = j = 0\n",
    "ni, nj= len(t), len(u)\n",
    "\n",
    "while i < ni and j < nj:\n",
    "  if ni - i < nj - j:\n",
    "    print(\"No\")\n",
    "    exit()\n",
    "  cur_i, cur_j = i, j\n",
    "  while cur_i < ni and cur_j < nj:\n",
    "    if t[cur_i] == u[cur_j] or t[cur_i] == '?':\n",
    "      cur_i += 1\n",
    "      cur_j += 1\n",
    "    else:\n",
    "      i += 1\n",
    "      j = 0\n",
    "      break\n",
    "  if cur_j == nj:\n",
    "    print(\"Yes\")\n",
    "    exit()\n",
    "\n",
    "if j == nj:\n",
    "  print(\"Yes\")\n",
    "else:\n",
    "  print(\"No\")"
   ]
  },
  {
   "cell_type": "code",
   "execution_count": null,
   "id": "bdc13fce",
   "metadata": {},
   "outputs": [],
   "source": [
    "from collections import defaultdict\n",
    "import sys\n",
    "\n",
    "sys.stdin = op\n",
    "n, m, q = map(int, input().split())\n",
    "query = []\n",
    "for _ in range(q):\n",
    "    query.append([int(i) for i in input().split()])\n",
    "\n",
    "users = defaultdict(list)\n",
    "\n",
    "for qu in query:\n",
    "    match qu:\n",
    "        case [1, uid, page]:\n",
    "            users[uid].append(page)\n",
    "        case [2, uid]:\n",
    "            users[0].append(uid) # use users[0] to store full permitted users\n",
    "        case [3, uid, page]:\n",
    "            if page in users[uid] or uid in users[0]:\n",
    "                print(\"Yes\")\n",
    "            else:\n",
    "                print(\"No\")"
   ]
  },
  {
   "cell_type": "code",
   "execution_count": null,
   "id": "aad79e89",
   "metadata": {},
   "outputs": [],
   "source": [
    "from collections import defaultdict\n",
    "n, m, q = map(int, input().split())\n",
    "query = []\n",
    "for _ in range(q):\n",
    "    query.append([int(i) for i in input().split()])\n",
    "\n",
    "users = defaultdict(set)\n",
    "\n",
    "for qu in query:\n",
    "  if qu[0] == 1:\n",
    "    if qu[1] not in users[0]:\n",
    "      users[qu[1]].add(qu[2])\n",
    "  elif qu[0] == 2:\n",
    "    users[0].add(qu[1]) # use users[0] to store full permitted users\n",
    "  else:\n",
    "    if qu[1] in users[0] or qu[2] in users[qu[1]]:\n",
    "      print(\"Yes\")\n",
    "    else:\n",
    "      print(\"No\")"
   ]
  },
  {
   "cell_type": "code",
   "execution_count": 4,
   "id": "53e0b7c5",
   "metadata": {},
   "outputs": [
    {
     "data": {
      "text/plain": [
       "[('c', 'a'), ('d', 'b')]"
      ]
     },
     "execution_count": 4,
     "metadata": {},
     "output_type": "execute_result"
    }
   ],
   "source": [
    "def rotate(grid):\n",
    "    return [row for row in zip(*grid[::-1])]\n",
    "\n",
    "grid = [\n",
    "  ['a', 'b'],\n",
    "  ['c', 'd']\n",
    "]\n",
    "\n",
    "rotate(grid)"
   ]
  },
  {
   "cell_type": "code",
   "execution_count": 2,
   "id": "d5803165",
   "metadata": {},
   "outputs": [
    {
     "data": {
      "text/plain": [
       "[['c', 'd'], ['a', 'b']]"
      ]
     },
     "execution_count": 2,
     "metadata": {},
     "output_type": "execute_result"
    }
   ],
   "source": [
    "grid[::-1]"
   ]
  },
  {
   "cell_type": "code",
   "execution_count": 3,
   "id": "71f375a8",
   "metadata": {},
   "outputs": [
    {
     "data": {
      "text/plain": [
       "[['g', 'd', 'a'], ['h', 'e', 'b'], ['i', 'f', 'c']]"
      ]
     },
     "execution_count": 3,
     "metadata": {},
     "output_type": "execute_result"
    }
   ],
   "source": [
    "grid = ['abc', 'def','ghi']\n",
    "rotate(grid)"
   ]
  },
  {
   "cell_type": "code",
   "execution_count": 5,
   "id": "2d320d5f",
   "metadata": {},
   "outputs": [
    {
     "name": "stdout",
     "output_type": "stream",
     "text": [
      "{'name': 'Alice', 'age': 30}\n",
      "{'name': 'Bob', 'age': 25}\n"
     ]
    }
   ],
   "source": [
    "class Person:\n",
    "    def __init__(self, name, age):\n",
    "        self.name = name\n",
    "        self.age = age\n",
    "\n",
    "p1 = Person(\"Alice\", 30)\n",
    "p2 = Person(\"Bob\", 25)\n",
    "\n",
    "print(p1.__dict__)\n",
    "print(p2.__dict__)\n"
   ]
  },
  {
   "cell_type": "code",
   "execution_count": null,
   "id": "376a0947",
   "metadata": {},
   "outputs": [
    {
     "name": "stdout",
     "output_type": "stream",
     "text": [
      "{'name': 'Alice', 'age': 30}\n",
      "{'name': 'Bob', 'age': 25, 'city': 'New York'}\n"
     ]
    }
   ],
   "source": [
    "p2.city = \"New York\"\n",
    "print(p1.__dict__)\n",
    "print(p2.__dict__)\n",
    "\n",
    "import dis\n",
    "dis('p2.city=\"NM\"')"
   ]
  }
 ],
 "metadata": {
  "kernelspec": {
   "display_name": "tf",
   "language": "python",
   "name": "python3"
  },
  "language_info": {
   "codemirror_mode": {
    "name": "ipython",
    "version": 3
   },
   "file_extension": ".py",
   "mimetype": "text/x-python",
   "name": "python",
   "nbconvert_exporter": "python",
   "pygments_lexer": "ipython3",
   "version": "3.9.18"
  }
 },
 "nbformat": 4,
 "nbformat_minor": 5
}
