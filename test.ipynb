{
 "cells": [
  {
   "cell_type": "code",
   "execution_count": 7,
   "id": "40a9c6dc",
   "metadata": {},
   "outputs": [
    {
     "name": "stdout",
     "output_type": "stream",
     "text": [
      "3\n",
      "4\n",
      "3\n",
      "3\n"
     ]
    }
   ],
   "source": [
    "import sys\n",
    "\n",
    "x = 3.14\n",
    "print(sys.getrefcount(x))  # e.g., 3 (one from x, one from the argument to getrefcount)\n",
    "\n",
    "y = x\n",
    "print(sys.getrefcount(x))  # e.g., 4 (now y also references it)\n",
    "\n",
    "del y\n",
    "print(sys.getrefcount(x))  # back to 3\n",
    "\n",
    "x = 9.0\n",
    "print(sys.getrefcount(x)) # still 3, but \"9.0\" is new and immutable"
   ]
  },
  {
   "cell_type": "code",
   "execution_count": 9,
   "id": "59dab4c5",
   "metadata": {},
   "outputs": [
    {
     "name": "stdout",
     "output_type": "stream",
     "text": [
      "7\n",
      "2\n",
      "7\n",
      "3\n"
     ]
    }
   ],
   "source": [
    "s = \"hello\"\n",
    "print(sys.getrefcount(s))  # e.g., 6\n",
    "\n",
    "t = (\"a\", \"b\", \"c\")\n",
    "print(sys.getrefcount(t))  # e.g., 2\n",
    "\n",
    "u = s\n",
    "v = t\n",
    "print(sys.getrefcount(s))  # e.g., 7\n",
    "print(sys.getrefcount(t))  # e.g., 3\n",
    "\n"
   ]
  },
  {
   "cell_type": "code",
   "execution_count": null,
   "id": "bcec76e6",
   "metadata": {},
   "outputs": [],
   "source": []
  }
 ],
 "metadata": {
  "kernelspec": {
   "display_name": "tf",
   "language": "python",
   "name": "python3"
  },
  "language_info": {
   "codemirror_mode": {
    "name": "ipython",
    "version": 3
   },
   "file_extension": ".py",
   "mimetype": "text/x-python",
   "name": "python",
   "nbconvert_exporter": "python",
   "pygments_lexer": "ipython3",
   "version": "3.9.18"
  }
 },
 "nbformat": 4,
 "nbformat_minor": 5
}
